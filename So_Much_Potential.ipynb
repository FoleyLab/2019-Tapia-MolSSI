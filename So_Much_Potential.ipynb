{
 "cells": [
  {
   "cell_type": "markdown",
   "metadata": {},
   "source": [
    "# *Ab* *initio* molecular dynamics of the vibrational motion of HF\n",
    "\n",
    "### Part 1:  Analysis of an *ab* *initio* potential energy surfaces (PES)\n",
    "We are going to construct what is often referred to as an ab initio potential energy surface of the\n",
    "diatomic molecule hydrogen fluoride. We are going to use a reasonably good level of theory (MP2/cc-pVTZ) to compute the electronic energy at different geometries of a simple diatomic molecule.  We will use Psi4's python interface to facilitate the electronic structure calculations, and then the interpolation capabilities of scipy to simplify the evalution of the potential energy at separations for which we did not explicitly evaluate the electronic energy. We will also use scipy to differentiate the interpolated potential energy surface to\n",
    "obtain the forces acting on the atoms at different separations.\n",
    "\n",
    "We will start by importing the necessary libraries:"
   ]
  },
  {
   "cell_type": "code",
   "execution_count": null,
   "metadata": {},
   "outputs": [],
   "source": [
    "import numpy as np\n",
    "import time\n",
    "import psi4\n",
    "from matplotlib import pyplot as plt\n",
    "from scipy.interpolate import InterpolatedUnivariateSpline"
   ]
  },
  {
   "cell_type": "markdown",
   "metadata": {},
   "source": [
    "We will use a template for the z-matrix which will allow us to automate the specification of the\n",
    "bond length of our HF molecule for easy computation of our potential energy surface."
   ]
  },
  {
   "cell_type": "code",
   "execution_count": null,
   "metadata": {},
   "outputs": [],
   "source": [
    "# template for the z-matrix\n",
    "mol_tmpl = \"\"\"H\n",
    "F 1 **R**\"\"\""
   ]
  },
  {
   "cell_type": "markdown",
   "metadata": {},
   "source": [
    "Now let’s create arrays for the bond length and energies at each bond length at the CCSD/cc-pVTZ level. \n",
    "Let’s have our bond lengths spane 0.5 - 2.3 Angstroms; note that\n",
    "should use finer resolution for short bondlengths than our longer bondlengths because we want\n",
    "to be sure we accurately represent the minimum energy point on the PES!"
   ]
  },
  {
   "cell_type": "code",
   "execution_count": null,
   "metadata": {},
   "outputs": [],
   "source": [
    "# array of bondlengths for HF\n",
    "r_array = np.array([0.5, 0.55,0.6,0.65,0.7,0.75,0.8,0.85,0.9,0.95,1.0,1.1,1.2,1.3,1.4,1.5,1.6,1.7,1.8,1.9,2.0,2.1,2.2,2.3])\n",
    "# empty array for the mp2/cc-pVDZ energies\n",
    "ccsd_energy_array = np.zeros_like(r_array)"
   ]
  },
  {
   "cell_type": "code",
   "execution_count": null,
   "metadata": {},
   "outputs": [],
   "source": [
    "# array for different instances of the HF molecule\n",
    "molecules = []\n",
    "\n",
    "# loop over the different bond-lengths, create different instances\n",
    "# of HF molecule\n",
    "for r in r_array:\n",
    "    molecule = psi4.geometry(mol_tmpl.replace(\"**R**\", str(r)))\n",
    "    molecules.append(molecule)\n",
    "    \n",
    "# loop over instances of molecules, compute the MP2\n",
    "# energies and store them in an array\n",
    "\n",
    "energy_idx = 0\n",
    "for mol in molecules:\n",
    "    energy = psi4.energy(\"mp2/cc-pVDZ\", molecule=mol)\n",
    "    ccsd_energy_array[energy_idx] = energy\n",
    "    energy_idx+=1\n",
    "\n"
   ]
  },
  {
   "cell_type": "markdown",
   "metadata": {},
   "source": [
    "We can use matplotlib to plot the energies in the various arrays against the bondlengths in 'r_array':"
   ]
  },
  {
   "cell_type": "code",
   "execution_count": null,
   "metadata": {},
   "outputs": [],
   "source": [
    "plt.plot(r_array, ccsd_energy_array, '-b*', label='CCSD/cc-pVTZ PES')\n",
    "plt.xlabel(\"Bondlength (Angstroms)\")\n",
    "plt.ylabel(\"Energy (Hartree)\")\n",
    "plt.legend()\n",
    "plt.show()"
   ]
  },
  {
   "cell_type": "markdown",
   "metadata": {},
   "source": [
    "Now that you have the raw data, we will interpolate this data using cubic splines.  This will permit us to \n",
    "estimate the potential energy at any arbitrary separation between 0.5 and 2.3 Angstroms.\n",
    "\n",
    "The general syntax for creating a cubic spline object is as follows:\n",
    "\n",
    "`spline = InterpolatedUnivariateSpline(x-data, y-data, k=3)`\n",
    "\n",
    "#### Note on units\n",
    "The energies we used above are in a unit called Hartrees, which are the atomic unit of energy.  We have so far been specifying our separation in Angstroms (**not the atomic unit of length**) so we are in a mixed unit system.  When we generate our spline, we will use an array of bond lengths in atomic units as the x-data and the energies in atomic units as the y-data, which will yield a PES purely in atomic units.  Therefore, the first thing we will do before creating the spline is to create an array of bond lengths in atomic units called `r_array_au`, where (~1.89 * bond lengths in Angstroms is the bond length in atomic units). \n",
    "\n",
    "We will then create a cubic spline (called ccsd_energy_spline) that is a fit to the CCSD/cc-pVTZ energy as a function of bondlength in atomic units."
   ]
  },
  {
   "cell_type": "code",
   "execution_count": null,
   "metadata": {},
   "outputs": [],
   "source": [
    "# !!! Create array of bond lengths in atomic units (r_array_au) \n",
    "\n",
    "\n",
    "# !!! create a cubic spline for the energies vs bond length in atomic units here (ccsd_energy_spline) \n",
    "\n",
    "\n",
    "# !!! also create the negative of the energy spline, it will be useful for defining the force (negative_ccsd_energy_spline)\n",
    "\n"
   ]
  },
  {
   "cell_type": "markdown",
   "metadata": {},
   "source": [
    "Now we can plot the splines against the PES data to make sure our splines were generated properly."
   ]
  },
  {
   "cell_type": "code",
   "execution_count": null,
   "metadata": {},
   "outputs": [],
   "source": [
    "# form a much finer grid to evaluate spline object \n",
    "r_array_fine_au = np.linspace(0.5*1.89, 2.3*1.89, 200)\n",
    "\n",
    "# compute the interpolated/extrapolated values for Energy on this grid\n",
    "ccsd_energy_array_fine = ccsd_energy_spline(r_array_fine_au)\n",
    "\n",
    "\n",
    "### plot the interpolated data with lines against computed data in *'s\n",
    "plt.plot(r_array_fine_au, ccsd_energy_array_fine, 'red', label='Fit')\n",
    "plt.plot(r_array_au, ccsd_energy_array, 'b*', label='Computed')\n",
    "plt.xlabel(\"Bondlength (Bohr)\")\n",
    "plt.ylabel(\"Energy (Hartrees)\")\n",
    "plt.legend()\n",
    "plt.show()\n"
   ]
  },
  {
   "cell_type": "markdown",
   "metadata": {},
   "source": [
    "### Part 2:  Computation of Forces and related quantities and their importance in Newton's law\n",
    "We can derive a number of important quantities just from the potential energy surfaces we have computed.  For example, we estimate the equilibrium bond length by finding the separation at which the potential is minimum; note this would also be the position that the force goes to zero:\n",
    "\\begin{equation}\n",
    "\\frac{d}{dr} V(r_{eq}) = -F(r_{eq}) = 0.\n",
    "\\end{equation}\n",
    "\n",
    "The force as a function of separation plays a significant role in the vibrational motion of the molecule, as we will see shortly.  \n",
    "\n",
    "To compute the force, we can use the fact\n",
    "that the spline objects (which we previously created) can be directly differentiated using the following syntax:\n",
    "\n",
    "`spline_derivative = spline.derivative()`\n",
    "\n",
    "Once computed, plot each spline against the r_fine array previously created!\n",
    "#### What unit system do you think the forces are in?"
   ]
  },
  {
   "cell_type": "code",
   "execution_count": null,
   "metadata": {},
   "outputs": [],
   "source": [
    "# !!! Differentiate splines and plot resulting forces in this cell (ccsd_force_spline)\n",
    "\n",
    "\n",
    "# !!! also get the *positive* first derivative of the energy spline (ccsd_energy_first_derivative_spline)\n",
    "\n",
    "\n",
    "# !!! define new array called (ccsd_force_array_fine)\n",
    "\n",
    "\n",
    "# plot!\n",
    "plt.plot(r_array_fine_au, ccsd_force_array_fine, 'b--', label='Force')\n",
    "plt.xlabel(\"Bondlength (Bohr)\")\n",
    "plt.ylabel(\"Force (Hartree / Bohr)\")\n",
    "plt.legend()\n",
    "plt.show()\n"
   ]
  },
  {
   "cell_type": "markdown",
   "metadata": {},
   "source": [
    "#### Equilibrium bond length \n",
    "Next we will find where the minimum of the potential energy surfaces are and use that\n",
    "to find the equilibrium bond length, making use of numpy's argmin function to find the\n",
    "index corresponding to the minimum value in a numpy array:"
   ]
  },
  {
   "cell_type": "code",
   "execution_count": null,
   "metadata": {},
   "outputs": [],
   "source": [
    "# Find Equilibrium Bond-Lengths for each level of theory\n",
    "r_eq_idx = np.argmin(ccsd_energy_array_fine)\n",
    "\n",
    "# find the value of the separation corresponding to that index\n",
    "ccsd_r_eq = r_array_fine_au[r_eq_idx]\n",
    "\n",
    "# print equilibrium bond-lengths at each level of theory!\n",
    "print(\" Equilibrium bond lengt is \",ccsd_r_eq, \"atomic units\")\n",
    "print(\" Req is \",ccsd_r_eq / 1.89, \"Angstroms\")\n",
    "\n",
    "# expected bondlength in Angstroms\n",
    "expected_r_eq_angstroms = 0.9160804020100503\n",
    "\n",
    "# just checking to make sure things are good so far!\n",
    "assert np.isclose(ccsd_r_eq / 1.89, expected_r_eq_angstroms)\n"
   ]
  },
  {
   "cell_type": "markdown",
   "metadata": {},
   "source": [
    "#### At this point, take a moment to compare your equilibrium bond length to the experimentally-determined (i.e. the \"true\" bond length) of HF.  You probably don't know the experimental bond length of HF off the top of your head, so look it up!"
   ]
  },
  {
   "cell_type": "markdown",
   "metadata": {},
   "source": [
    "#### Harmonic Frequency \n",
    "You might have learned that the Harmonic Oscillator potential, which is a reasonable model for the vibrational motion of diatomic molecules near their equilibrium bond length, is given by\n",
    "\\begin{equation}\n",
    "V(r) = \\frac{1}{2} k (r-r_{eq})^2 + V_0\n",
    "\\end{equation}\n",
    "and that the vibrational frequency of the molecule within the Harmonic oscillator model is given by\n",
    "\\begin{equation}\n",
    "\\nu = \\frac{1}{2\\pi}\\sqrt{\\frac{k}{\\mu}}\n",
    "\\end{equation}\n",
    "where $\\mu$ is the reduced mass of the molecule and $k$ is known as the force constant.  \n",
    "We can estimate the force constant as\n",
    "\\begin{equation}\n",
    "k = \\frac{d^2}{dr^2} V(r_{eq}),\n",
    "\\end{equation}\n",
    "and the reduced mass of HF is defined as\n",
    "\\begin{equation}\n",
    "\\mu = \\frac{m_H \\cdot m_F}{m_H + m_F},\n",
    "\\end{equation}\n",
    "where $m_H$ and $m_F$ are the masses of Hydrogen and Fluoride, respectively.\n",
    "\n",
    "Let's go ahead and get the force constant and use it to estimate the vibrational frequency.\n",
    "We will need to compute the reduced mass along the way! \n",
    "We can also estimate potential energy within the Harmonic approximation which we can plot against\n",
    "the CCSD PES in a subsequent cell.  \n",
    "\n",
    "Recall we differentiated the energy spline and stored it as the `ccsd_energy_first_derivative_spline`;\n",
    "now we will differentiate that spline to get the `ccsd_curvature_spline`.\n"
   ]
  },
  {
   "cell_type": "code",
   "execution_count": null,
   "metadata": {},
   "outputs": [],
   "source": [
    "# mass of hydrogen in atomic units\n",
    "mH = 1836.\n",
    "### mass of fluorine in atomic units\n",
    "mF = 34883.\n",
    "\n",
    "# !!! compute reduced mass (mu)\n",
    "\n",
    "\n",
    "# Print the reduced mass!\n",
    "print(\"Reduced mass is \",mu, \"atomic units\")\n",
    "\n",
    "# !!! Differentiate ccsd_energy_first_derivative_spline to get curvatures (ccsd_curvature_spline)\n",
    "\n",
    "\n",
    "# !!! Get force constant by evaluating ccsd_curvature_spline at r_eq_au (ccsd_k)\n",
    "\n",
    "\n",
    "# Print the Force Constant\n",
    "print(\"Force Constant is \", ccsd_k)\n",
    "\n",
    "# !!! Compute the vibrational frequency (ccsd_nu)\n",
    "\n",
    "\n",
    "# Print the frequency!\n",
    "print(\"Frequency is \",ccsd_nu)\n",
    "\n",
    "# This is the vibrational energy in atomic units in terms of the frequency\n",
    "ccsd_omega = 2 * np.pi * ccsd_nu\n",
    "print(\"Vibrational Energy is \",ccsd_omega, \"atomic units\")\n",
    "print(\"Vibrational Energy is \",ccsd_omega * 27.211,\"eV\")\n",
    "\n",
    "\n",
    "# expected reduced mass\n",
    "expected_mu = 1744.1974999319154\n",
    "\n",
    "# expected force constant\n",
    "expected_k = 0.6472559836663361\n",
    "\n",
    "# expected vibrational energy in eV\n",
    "expected_energy_ev = 0.524185145363501\n",
    "\n",
    "# test to see if any problems\n",
    "assert np.isclose(mu, expected_mu)\n",
    "assert np.isclose(ccsd_k, expected_k)\n",
    "assert np.isclose(ccsd_omega * 27.211, expected_energy_ev)\n"
   ]
  },
  {
   "cell_type": "markdown",
   "metadata": {},
   "source": [
    "The vibrational energy in atomic units can be converted to more familiar \n",
    "spectroscopic units to allow comparision to the experimental vibrational frequency \n",
    "of HF.  For example, this [link](http://halas.rice.edu/conversions) has a very useful unit converter from energy to spectroscopic units like wavenumbers ($cm^{-1}$) or nanometers ($nm$).  It might be useful first to convert your vibrational energy in atomic units to electron volts by using the fact that 1 atomic unit of energy is equal to 27.211 electron volts."
   ]
  },
  {
   "cell_type": "markdown",
   "metadata": {},
   "source": [
    "Now that we have the force constants, let's define an array for the harmonic potential (`harmonic_potential_array`) that store the harmonic potentials at each level of theory evaluated at the different bond lengths (in atomic units) stored in the array r_fine; recall the definition of the Harmonic potential is \n",
    "\\begin{equation}\n",
    "V(r) = \\frac{1}{2} k (r-r_{eq})^2 + V_0,\n",
    "\\end{equation}\n",
    "where we can use $E(r_{eq})$ as $V_0$."
   ]
  },
  {
   "cell_type": "code",
   "execution_count": null,
   "metadata": {},
   "outputs": [],
   "source": [
    "# !!! Create arrays storing V(r) along r_array_fine_au (harmonic_potential_array)\n",
    "\n"
   ]
  },
  {
   "cell_type": "markdown",
   "metadata": {},
   "source": [
    "Let's plot the resulting Harmonic potential against the *ab* *initio* potential near the equilibrium geometry"
   ]
  },
  {
   "cell_type": "code",
   "execution_count": null,
   "metadata": {},
   "outputs": [],
   "source": [
    "### plot RHF harmonic potential vs RHF ab initio potential!\n",
    "plt.plot(r_array_fine_au, harmonic_potential_array, 'red', label='Harmonic')\n",
    "plt.plot(r_array_fine_au, ccsd_energy_array_fine, 'b--', label='CCSD/cc-pVTZ' )\n",
    "plt.xlabel(\"Bondlength (Bohr)\")\n",
    "plt.ylabel(\"Energy (Hartree)\")\n",
    "# these limits were chosen to zoom in on region of the RHF PES that is approximately\n",
    "# harmonic... can anyone suggest a better way to make a plot that is zoomable?\n",
    "plt.xlim(1.0, (1.69+0.69))\n",
    "plt.ylim(-100.4,-99.7)\n",
    "plt.legend()\n",
    "plt.show()"
   ]
  },
  {
   "cell_type": "markdown",
   "metadata": {},
   "source": [
    "### Part 3: Solving Newton's equation of motion to simulate the dynamics\n",
    "Next, we want to actually simulate the dynamics of the HF molecule on these *ab* *initio* potential energy surfaces.  To do so, we need to solve Newton's equations of motion subject to some initial condition for the position (separation) and momentum (in a relative sense) of the particles.  Newton's equations can be written\n",
    "\\begin{equation}\n",
    "F(r) = \\mu \\frac{d^2}{dr^2}\n",
    "\\end{equation}\n",
    "where $\\mu$ is the reduced mass in atomic units and $F(r)$ is the Force vs separation in atomic units that was determined previously.  \n",
    "\n",
    "#### What will be the accelation of the bond stretch when H is separated by F by 3 atomic units?  You can express your acceleration in atomic units and store to the variable `test_acceleration`\n",
    "\n"
   ]
  },
  {
   "cell_type": "code",
   "execution_count": null,
   "metadata": {},
   "outputs": [],
   "source": [
    "# !!! Compute acceleration at CCSD level when HF is displaced by 3 atomic units (test_acceleration) \"\"\"\n",
    "\n",
    "\n",
    "# expected value - just to check things!\n",
    "expected_acceleration = -6.255740091785719e-05\n",
    "assert np.isclose(test_acceleration, expected_acceleration)"
   ]
  },
  {
   "cell_type": "markdown",
   "metadata": {},
   "source": [
    "#### Numerically solving Newton's equation of motion \n",
    "If the acceleration, position, and velocity of the bond stretch coordinate are known at some instant in \n",
    "time $t_i$, then the position and velocity can be estimated at some later time $t_{i+1} = t_i + \\Delta t$:\n",
    "\\begin{equation}\n",
    "r(t_i + \\Delta t) = r(t_i) + v(t_i)\\Delta t + \\frac{1}{2}a(t_i)\\Delta t^2\n",
    "\\end{equation}\n",
    "and\n",
    "\\begin{equation}\n",
    "v(t_i + \\Delta t) = v(t_i) + \\frac{1}{2} \\left(a(t_i) + a(t_i + \\Delta t)  \\right) \\Delta t.\n",
    "\\end{equation}\n",
    "This prescription for updating the velocities and positions is known as the Velocity-Verlet algorithm.  \n",
    "Note that we need to perform 2 force evaluations per Velocity-Verlet iteration: one corresponding\n",
    "to position $r(t_i)$ to update the position, and then a second time at the updated position $r(t_i + \\Delta t)$\n",
    "to complete the velocity update.  \n",
    "\n",
    "We will create a function called Velocity_Verlet that takes the arguments r_curr, v_curr, mu, force_spline, and timestep and returns a 2-element array containing the updated position (r) and velocity (v) value."
   ]
  },
  {
   "cell_type": "code",
   "execution_count": null,
   "metadata": {},
   "outputs": [],
   "source": [
    "''' Velocity Verlet function goes in this cell! '''\n",
    "def velocity_verlet(r_curr, v_curr, mu, force_spline, dt):\n",
    "\n",
    "    # !!! get acceleration at time t_i (a_curr)\n",
    "\n",
    "\n",
    "    # !!! update r (r_new)\n",
    "\n",
    "\n",
    "    # !!! get acceleration at time t_i+dt based on r_new (a_new)\n",
    "\n",
    "\n",
    "    # !!! update velocity (v_new)\n",
    "\n",
    "    \n",
    "    # return r_new and v_new\n",
    "    return r_new, v_new\n",
    "\n",
    "    "
   ]
  },
  {
   "cell_type": "markdown",
   "metadata": {},
   "source": [
    "### Validating Velocity-Verlet algorithm with the Harmonic Oscillator\n",
    "Newton's equation of motion can be solved analytically for the Harmonic oscillator, and we can use this fact to validate our Velocity-Verlet algorithm (which provides an *approximate* solution to Newton's equation of motion for arbitrary potentials).  That is,\n",
    "the vibrational motion of a diatomic subject to a Harmonic potential predicted \n",
    "by the Velocity-Verlet algorithm should closely match the analytical solution. Analytically, \n",
    "the bond length as a function of time for a diatomic experiencing a harmonic potential is given by\n",
    "\\begin{equation}\n",
    "r(t) = A \\: {\\rm sin}\\left(\\sqrt{\\frac{k}{\\mu}} t + \\phi \\right) + r_{eq},\n",
    "\\end{equation}\n",
    "where $A = \\frac{r(0)}{{\\rm sin}(\\phi)}$, $r(0)$ is the initial separation, and $\\phi$ is the initial phase of the cycle; note that corresponding to this initial separation is \n",
    "an initial velocity given by \n",
    "\\begin{equation}\n",
    "v(0) = A \\: \\sqrt{\\frac{k}{\\mu}} {\\rm cos}\\left( \\phi \\right).\n",
    "\\end{equation}\n",
    "\n",
    "Let's define a function harmonic_position that takes arguments of $\\sqrt{\\frac{k}{\\mu}}$ (om), $A$ (amp), $\\phi$ (phase), $r_{eq}$ (req), and time (t), and returns the separation. \n"
   ]
  },
  {
   "cell_type": "code",
   "execution_count": null,
   "metadata": {},
   "outputs": [],
   "source": [
    "''' Analytic solution to Harmonic Oscillator r(t) goes here! '''\n",
    "def harmonic_position(om, amp, phase, req, t):\n",
    "    # !!! this function will compute and return r(t)\n",
    "\n",
    "    "
   ]
  },
  {
   "cell_type": "markdown",
   "metadata": {},
   "source": [
    "The following code block will call the Velocity Verlet algorithm 10,000 times with a \n",
    "timestep of 0.1 atomic units per timestep and will compare the resulting trajectory of bond length vs time (all in atomic units) to the analytic result for the Harmonic oscillator; we will initiate the bond length as being 0.2 atomic units **longer** than $r_{eq}$ with an initial phase of $\\frac{\\pi}{4}$."
   ]
  },
  {
   "cell_type": "code",
   "execution_count": null,
   "metadata": {},
   "outputs": [],
   "source": [
    "# how many updates do you want to perform?\n",
    "n_steps = 10000\n",
    "\n",
    "# establish time-step for integration to be 0.02 atomic units... this is about 0.0005 femtoseconds\n",
    "# so total time is 200000*0.02 atomic units of time which is ~9.6e-13 s, or 960 fs\n",
    "dt = 0.1\n",
    "\n",
    "# arrays to store results from VV algorithm\n",
    "\n",
    "# using Harmonic fit to ab initio potential\n",
    "harmonic_r_vs_t = np.zeros(n_steps)\n",
    "harmonic_v_vs_t = np.zeros(n_steps)\n",
    "\n",
    "# using spline fit to ab initio potential\n",
    "ccsd_r_vs_t = np.zeros(n_steps) \n",
    "ccsd_v_vs_t = np.zeros(n_steps)\n",
    "\n",
    "# array to store analytic result for r(t) using the Harmonic fit to the potential\n",
    "analytic_r_vs_t = np.zeros(n_steps)\n",
    "\n",
    "# array to store time in atomic units\n",
    "t_array = np.zeros(n_steps)\n",
    "\n",
    "# establish some constants relevant for analytic solution, some choices arbitrary\n",
    "# initial displacement \n",
    "x0 = 0.2\n",
    "\n",
    "# amplitude for analytic solution\n",
    "amplitude = x0 / ( np.sin( np.pi / 4) )\n",
    "\n",
    "# initial velocity\n",
    "v0 = amplitude * ccsd_omega * np.cos( np.pi / 4 )\n",
    "\n",
    "# initial conditions same for harmonic and ab initio solutions\n",
    "harmonic_r_vs_t[0] = ccsd_r_eq + x0\n",
    "harmonic_v_vs_t[0] = v0\n",
    "\n",
    "ccsd_r_vs_t[0] = ccsd_r_eq + x0\n",
    "ccsd_v_vs_t[0] = v0\n",
    "\n",
    "analytic_r_vs_t[0] = ccsd_r_eq + x0\n",
    "\n",
    "# spline for Harmonic potential using ccsd_k\n",
    "negative_harmonic_potential_spline = InterpolatedUnivariateSpline(r_array_fine_au, -1 * harmonic_potential_array, k=3)\n",
    "# ccsd harmonic force spine\n",
    "harmonic_force_spline = negative_harmonic_potential_spline.derivative()\n",
    "\n",
    "\n",
    "# iterate through n_steps and update position and velocity\n",
    "for i in range(1, n_steps):\n",
    "\n",
    "    # store current time\n",
    "    t_array[i] = dt*i\n",
    "\n",
    "    # Compute VV update using ab initio Force\n",
    "    ccsd_r_vs_t[i], ccsd_v_vs_t[i] =  velocity_verlet(ccsd_r_vs_t[i-1], ccsd_v_vs_t[i-1], mu, ccsd_force_spline, dt)\n",
    "\n",
    "    # Compute VV update using Harmonic model Force\n",
    "    harmonic_r_vs_t[i], harmonic_v_vs_t[i] = velocity_verlet(harmonic_r_vs_t[i-1], harmonic_v_vs_t[i-1], mu, harmonic_force_spline, dt)\n",
    "\n",
    "    # analytical update\n",
    "    analytic_r_vs_t[i] = harmonic_position(ccsd_omega, amplitude, np.pi / 4, ccsd_r_eq, dt * i)\n",
    "\n",
    "# Plot result and compare!\n",
    "plt.plot(t_array, harmonic_r_vs_t, 'red', label=\"Harmonic\")\n",
    "plt.plot(t_array, ccsd_r_vs_t, 'green', label=\"CCSD\")\n",
    "plt.plot(t_array, analytic_r_vs_t, 'b--', label=\"Analytic Harmonic\")\n",
    "plt.legend()\n",
    "plt.show()\n",
    "\n",
    "# check to see if the harmonic velocity verlet agrees closely with the analytical solution\n",
    "assert np.allclose(harmonic_r_vs_t, analytic_r_vs_t)"
   ]
  },
  {
   "cell_type": "markdown",
   "metadata": {},
   "source": [
    "#### How are the dynamics different when the *ab* *initio* forces are used?  Try to identify at least two quantitative ways in which you can distinguish the harmonic motion from the motion deriving from the *ab* *initio* forces.  \n",
    "\n",
    "#### Can you estimate the frequency from the *ab* *initio* trajectories?  How does this frequency compare with the Harmonic approximation and with the experimental value?\n",
    "\n",
    "### For further consideration: What makes a \"sensible range of values\" for position and velocity?\n",
    "\n",
    "In this case, we will initialize the position to be a random number between 1.0 and 4.0; for the velocity, we will use the fact that we can estimate the expectation value of kinetic energy for a very similar system (the Harmonic oscillator) in the ground state as follows:\n",
    "\\begin{equation}\n",
    "\\langle T \\rangle = \\frac{1}{2} E_g,\n",
    "\\end{equation}\n",
    "where $E_g$ is the ground state of the Harmonic oscillator (this is making use of the Virial theorem).  We can easily\n",
    "find the ground state energy in the Harmonic oscillator approximation of $HF$ using our frequency calculation described above as\n",
    "\\begin{equation}\n",
    "E_g = \\frac{1}{2} h \\nu,\n",
    "\\end{equation}\n",
    "which implies the kinetic energy expectation value is\n",
    "\\begin{equation}\n",
    "\\langle T \\rangle = \\frac{h}{8 \\pi} \\sqrt{\\frac{k}{\\mu}}.\n",
    "\\end{equation}\n",
    "Since we can say classically that the kinetic energy is given by $T = \\frac{1}{2}\\mu v^2$, we can estimate the velocity of the bond stretch as follows:\n",
    "\\begin{equation}\n",
    "v = \\sqrt{\\frac{2 \\langle T \\rangle}{\\mu}} = \\sqrt{ \\frac{\\hbar \\sqrt{\\frac{k}{\\mu}}}{2\\mu}}\n",
    "\\end{equation}\n",
    "where we have simplified using the fact that $\\hbar = \\frac{h}{2\\pi}$ ($\\hbar$ has the value 1 in the atomic unit system we are using up to this point!).  We will assume that a reasonable\n",
    "range of velocities spans plus or minus 3 times this \"ground-state\" velocity.\n"
   ]
  },
  {
   "cell_type": "markdown",
   "metadata": {},
   "source": []
  }
 ],
 "metadata": {
  "kernelspec": {
   "display_name": "Python 3",
   "language": "python",
   "name": "python3"
  },
  "language_info": {
   "codemirror_mode": {
    "name": "ipython",
    "version": 3
   },
   "file_extension": ".py",
   "mimetype": "text/x-python",
   "name": "python",
   "nbconvert_exporter": "python",
   "pygments_lexer": "ipython3",
   "version": "3.8.5"
  }
 },
 "nbformat": 4,
 "nbformat_minor": 2
}
